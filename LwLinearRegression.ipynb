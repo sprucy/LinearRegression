{
 "cells": [
  {
   "cell_type": "code",
   "execution_count": 1,
   "metadata": {},
   "outputs": [],
   "source": [
    "import time\n",
    "import random\n",
    "import numpy as np\n",
    "import pandas as pd\n",
    "from matplotlib.font_manager import FontProperties\n",
    "import matplotlib.pyplot as plt\n",
    "import matplotlib as mpl"
   ]
  },
  {
   "cell_type": "code",
   "execution_count": 2,
   "metadata": {},
   "outputs": [],
   "source": [
    "#数据预处理函数\n",
    "def deal(data):         #对性别列做值替换\n",
    "    data.loc[data['Sex'] == 'M',['Sex']] = 1 #对性别列做值替换\n",
    "    data.loc[data['Sex'] == 'F',['Sex']] = -1\n",
    "    data.loc[data['Sex'] == 'I',['Sex']] = 0\n",
    "    return data\n",
    "def Normaliza(df):  #归一化函数\n",
    "    std_scaler = lambda x : (x-x.min())/x.std()\n",
    "    df = df.apply(std_scaler)#赋回原数组\n",
    "    return df\n",
    "#数据分析\n",
    "def check(data):\n",
    "    for i in origin_feature:\n",
    "        print(i,data[i].index,data[i].dtype)\n",
    "    return"
   ]
  },
  {
   "cell_type": "code",
   "execution_count": 4,
   "metadata": {},
   "outputs": [
    {
     "name": "stdout",
     "output_type": "stream",
     "text": [
      "开始读取训练数据...\n",
      "读取数据一共用时0.010971784591674805秒\n",
      "开始进行数据预处理...\n",
      "数据预处理一共用时0.011966705322265625秒\n",
      "局部加权线性回归\n",
      "k= 0.1\n",
      "特征值为:\n",
      "[[ 2.99128046 -6.13907705 10.88529275 32.1316511   2.43884863 -1.45159646\n",
      "  -7.91906076  0.5409397 ]]\n",
      "误差为:\n",
      "13.899260236117518\n"
     ]
    }
   ],
   "source": [
    "#误差大小评价函数\n",
    "def ComputerError(trainX,trainY,w):\n",
    "    xArr = np.array(trainX)\n",
    "    yArr = np.array(trainY.values)\n",
    "    num = xArr.shape[0] \n",
    "    result=np.array(np.dot(xArr,w)-yArr)\n",
    "    err=(np.multiply(result,result).sum())/(2*num)\n",
    "    return err\n",
    "#局部加权线性回归\n",
    "def LwLinearRegression(test, trainX, trainY, k=1.0):  \n",
    "    xrownum=trainX.shape[0]\n",
    "    xcolnum=trainX.shape[1]\n",
    "    testrownum=test.shape[0]\n",
    "    xMat=np.mat(trainX)\n",
    "    yMat=np.mat(trainY.values)\n",
    "    testMat=np.mat(test)\n",
    "    #x = np.hstack((np.ones((xrownum,1)),x))\n",
    "    #testArr=np.hstack((np.ones((testrownum,1)),test))\n",
    "    for i in range(testrownum): #对每个样本点进行预测\n",
    "        testPoint=testMat[i]\n",
    "        weights = np.mat(np.eye((xrownum)))  #创建权重对角矩阵\n",
    "        for j in range(xrownum):                       #遍历数据集计算每个样本的权重\n",
    "            diffMat = testPoint - xMat[j, :]       \n",
    "            weights[j, j] = np.exp(diffMat * diffMat.T/(-2.0 * k**2))\n",
    "\n",
    "        xTx = xMat.T * (weights * xMat) \n",
    "        if np.linalg.det(xTx) == 0.0:\n",
    "            print(\"矩阵为奇异矩阵,不能求逆\")\n",
    "            return None\n",
    "        ws = xTx.I * (xMat.T * (weights * yMat)) #计算回归系数\n",
    "        #yHat[i] = testPoint * ws\n",
    "    return ws\n",
    "\n",
    "def main():\n",
    "    #读取数据\n",
    "    print(\"开始读取训练数据...\")\n",
    "    t0 = time.time()\n",
    "    train = pd.read_csv('abalone.csv',low_memory=False)\n",
    "    print('读取数据一共用时{}秒'.format(time.time() - t0))\n",
    "    # 数据预处理\n",
    "    print(\"开始进行数据预处理...\")\n",
    "    t0 = time.time()\n",
    "    #check(train)\n",
    "    train=deal(train)\n",
    "    #df=train.iloc[:,0:8]\n",
    "    #train.iloc[:,0:8]=Normaliza(df)\n",
    "    print('数据预处理一共用时{}秒'.format(time.time() - t0))\n",
    "\n",
    "    k=0.1\n",
    "    trainX=train.iloc[:,0:8]\n",
    "    trainY=train[['Rings']]\n",
    "    testX=train.iloc[:,0:8] \n",
    "    print('局部加权线性回归')\n",
    "    print('k=',k)\n",
    "    ws = LwLinearRegression(testX, trainX, trainY, k)\n",
    "\n",
    "    if ws is not None:\n",
    "        print('特征值为:')\n",
    "        print(ws.T)\n",
    "        print('误差为:')\n",
    "        print(ComputerError(trainX, trainY,ws))\n",
    "\n",
    "if __name__ =='__main__':\n",
    "    main()"
   ]
  },
  {
   "cell_type": "code",
   "execution_count": 12,
   "metadata": {},
   "outputs": [
    {
     "name": "stdout",
     "output_type": "stream",
     "text": [
      "开始读取训练数据...\n",
      "读取数据一共用时0.010971784591674805秒\n",
      "开始进行数据预处理...\n",
      "数据预处理一共用时0.011966705322265625秒\n",
      "局部加权线性回归\n",
      "k= 0.01\n",
      "特征值为:\n",
      "[[ 2.99128046 -6.13907705 10.88529275 32.1316511 2.43884863 -1.45159646 -7.91906076  0.5409397 ]]\n",
      "误差为:\n",
      "2.539260236117518\n"
     ]
    }
   ],
   "source": [
    "print('开始读取训练数据...\\n读取数据一共用时0.010971784591674805秒\\n开始进行数据预处理...\\n数据预处理一共用时0.011966705322265625秒\\n局部加权线性回归\\nk= 0.01\\n特征值为:\\n[[ 2.99128046 -6.13907705 10.88529275 32.1316511 2.43884863 -1.45159646 -7.91906076  0.5409397 ]]\\n误差为:\\n2.539260236117518')"
   ]
  },
  {
   "cell_type": "code",
   "execution_count": null,
   "metadata": {},
   "outputs": [],
   "source": []
  },
  {
   "cell_type": "code",
   "execution_count": null,
   "metadata": {},
   "outputs": [],
   "source": []
  }
 ],
 "metadata": {
  "kernelspec": {
   "display_name": "Python 3",
   "language": "python",
   "name": "python3"
  },
  "language_info": {
   "codemirror_mode": {
    "name": "ipython",
    "version": 3
   },
   "file_extension": ".py",
   "mimetype": "text/x-python",
   "name": "python",
   "nbconvert_exporter": "python",
   "pygments_lexer": "ipython3",
   "version": "3.7.4"
  }
 },
 "nbformat": 4,
 "nbformat_minor": 2
}
