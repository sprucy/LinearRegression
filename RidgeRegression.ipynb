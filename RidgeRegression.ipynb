{
 "cells": [
  {
   "cell_type": "code",
   "execution_count": 1,
   "metadata": {},
   "outputs": [],
   "source": [
    "import time\n",
    "import random\n",
    "import numpy as np\n",
    "import pandas as pd\n",
    "from matplotlib.font_manager import FontProperties\n",
    "import matplotlib.pyplot as plt\n",
    "import matplotlib as mpl"
   ]
  },
  {
   "cell_type": "code",
   "execution_count": 5,
   "metadata": {},
   "outputs": [],
   "source": [
    "#数据预处理函数\n",
    "def deal(data):         #对性别列做值替换\n",
    "    data.loc[data['Sex'] == 'M',['Sex']] = 1 #对性别列做值替换\n",
    "    data.loc[data['Sex'] == 'F',['Sex']] = -1\n",
    "    data.loc[data['Sex'] == 'I',['Sex']] = 0\n",
    "    return data\n",
    "def Normaliza(df):  #归一化函数\n",
    "    std_scaler = lambda x : (x-x.min())/x.std()\n",
    "    df = df.apply(std_scaler)#赋回原数组\n",
    "    return df\n",
    "#数据分析\n",
    "def check(data):\n",
    "    for i in origin_feature:\n",
    "        print(i,data[i].index,data[i].dtype)\n",
    "    return"
   ]
  },
  {
   "cell_type": "code",
   "execution_count": 13,
   "metadata": {},
   "outputs": [
    {
     "name": "stdout",
     "output_type": "stream",
     "text": [
      "开始读取训练数据...\n",
      "读取数据一共用时0.016556978225708008秒\n",
      "开始进行数据预处理...\n",
      "数据预处理一共用时0.021300792694091797秒\n",
      "岭回归\n",
      "特征值为:\n",
      "[ 0.18241524  0.98051135  1.32735474  0.7698923   4.25494127 -4.79109938\n",
      " -1.3235795   0.82220076]\n",
      "误差为:\n",
      "2.596446296460973\n"
     ]
    }
   ],
   "source": [
    "#误差大小评价函数\n",
    "def ComputerError(trainX,trainY,w):\n",
    "    xArr = np.array(trainX)\n",
    "    yArr = np.array(trainY.values)\n",
    "    num = xArr.shape[0] \n",
    "    result=np.array(np.dot(xArr,w)-yArr)\n",
    "    err=(np.multiply(result,result).sum())/(2*num)\n",
    "    return err\n",
    "#岭回归\n",
    "def RidgeRegression(xMat,yMat,lamda=0.2): #lamda是缩减系数\n",
    "    xTx = xMat.T * xMat\n",
    "    manom = xTx + np.eye(np.shape(xMat)[1]) * lamda\n",
    "    if np.linalg.det(manom) == 0.0:\n",
    "        print(\"矩阵为奇异矩阵,不能求逆\")\n",
    "        return\n",
    "    w = manom.I * (xMat.T * yMat.T)\n",
    "    return w\n",
    "        \n",
    "def ComputeRidgeReg(trainX, trainY, numTestPts=30):\n",
    "    #x = np.hstack((np.ones((len(y),1)),x))\n",
    "    num= np.array(trainX).shape[0]\n",
    "    xMat = np.mat(trainX)\n",
    "    yMat = np.mat(trainY).T\n",
    "    wMat = np.zeros((numTestPts, np.shape(xMat)[1]))     #初始回归系数矩阵\n",
    "    errMat = np.zeros((numTestPts, 1))\n",
    "    for i in range(numTestPts):                          #改变lambda计算回归系数\n",
    "        w = RidgeRegression(xMat, yMat, np.exp(i - 10))  #lambda以e的指数变化，最初是一个非常小的数     \n",
    "        wMat[i, :] = w.T                                 #计算回归系数矩阵\n",
    "        errMat[i]=ComputerError(trainX, trainY, w)\n",
    "    return wMat,errMat\n",
    "\n",
    "def main():\n",
    "    #读取数据\n",
    "    print(\"开始读取训练数据...\")\n",
    "    t0 = time.time()\n",
    "    train = pd.read_csv('abalone.csv',low_memory=False)\n",
    "    print('读取数据一共用时{}秒'.format(time.time() - t0))\n",
    "    # 数据预处理\n",
    "    print(\"开始进行数据预处理...\")\n",
    "    t0 = time.time()\n",
    "    #check(train)\n",
    "    train=deal(train)\n",
    "    df=train.iloc[:,0:8]\n",
    "    train.iloc[:,0:8]=Normaliza(df)\n",
    "    print('数据预处理一共用时{}秒'.format(time.time() - t0))\n",
    "\n",
    "\n",
    "    numtestPts=30\n",
    "    trainX=train.iloc[:,0:8]\n",
    "    trainY=train[['Rings']]\n",
    "    testX=train.iloc[:,0:8] \n",
    "    print('岭回归')\n",
    "    wMat,errMat = ComputeRidgeReg(trainX, trainY, numtestPts)\n",
    "\n",
    "    print('特征值为:')\n",
    "    errMin=np.min(errMat)\n",
    "    print(wMat[errMat.argmin()])\n",
    "    print('误差为:')\n",
    "    print(errMin)\n",
    "\n",
    "if __name__ =='__main__':\n",
    "    main()"
   ]
  },
  {
   "cell_type": "code",
   "execution_count": null,
   "metadata": {},
   "outputs": [],
   "source": []
  }
 ],
 "metadata": {
  "kernelspec": {
   "display_name": "Python 3",
   "language": "python",
   "name": "python3"
  },
  "language_info": {
   "codemirror_mode": {
    "name": "ipython",
    "version": 3
   },
   "file_extension": ".py",
   "mimetype": "text/x-python",
   "name": "python",
   "nbconvert_exporter": "python",
   "pygments_lexer": "ipython3",
   "version": "3.7.4"
  }
 },
 "nbformat": 4,
 "nbformat_minor": 2
}
